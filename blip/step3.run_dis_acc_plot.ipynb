{
 "cells": [
  {
   "cell_type": "code",
   "execution_count": 1,
   "id": "040ca827",
   "metadata": {},
   "outputs": [
    {
     "name": "stdout",
     "output_type": "stream",
     "text": [
      "cuda\n"
     ]
    }
   ],
   "source": [
    "import torch\n",
    "from PIL import Image\n",
    "import requests\n",
    "\n",
    "from pprint import pprint\n",
    "\n",
    "from transformers import Blip2Processor, Blip2ForConditionalGeneration\n",
    "import random\n",
    "\n",
    "import pickle\n",
    "import time\n",
    "import pandas as pd\n",
    "import warnings\n",
    "warnings.filterwarnings('ignore')\n",
    "#os.environ['HF_HOME'] = '/var/scratch/ybi530/data'\n",
    "\n",
    "device = torch.device(\"cuda\") if torch.cuda.is_available() else \"cpu\"\n",
    "print(device)\n",
    "img_path = '/var/scratch/ybi530/data/data/train2014/'\n",
    "file_path = '/var/scratch/ybi530/result_Nov/'"
   ]
  },
  {
   "cell_type": "code",
   "execution_count": 2,
   "id": "0de91fbb",
   "metadata": {},
   "outputs": [],
   "source": [
    "import numpy as np"
   ]
  },
  {
   "cell_type": "code",
   "execution_count": 2,
   "id": "425f1eb3",
   "metadata": {},
   "outputs": [
    {
     "name": "stdout",
     "output_type": "stream",
     "text": [
      "0.22690517030139673\n",
      "0.22445479049252634\n",
      "0.20877235971575595\n",
      "0.21710365106591523\n",
      "0.23033570203381523\n",
      "0.21587846116148002\n",
      "0.22592501837784856\n",
      "0.2112227395246263\n",
      "0.21612349914236706\n",
      "0.215633423180593\n",
      "0.2190639549130115\n",
      "0.22984562607204118\n",
      "0.2144082332761578\n",
      "0.2065670178877726\n",
      "0.2131830433717226\n",
      "0.21514334721881892\n",
      "0.215633423180593\n",
      "0.22298456260720412\n",
      "0.22690517030139673\n",
      "0.23450134770889489\n",
      "0.21587846116148002\n",
      "0.22788532222494487\n",
      "0.22126929674099485\n",
      "0.22592501837784856\n",
      "0.21391815731438374\n",
      "0.21391815731438374\n",
      "0.22175937270276894\n",
      "0.2293555501102671\n",
      "0.23058074001470227\n",
      "0.2163685371232541\n"
     ]
    }
   ],
   "source": [
    "# df= pd.read_csv(file_path+'dis_blip_answer_all.csv')\n",
    "df= pd.read_csv(file_path+'dis_mapl_answer_all.csv')\n",
    "\n",
    "df\n",
    "def return_option(x):\n",
    "    if x:\n",
    "        try:\n",
    "            return x.rstrip('.')\n",
    "        except:\n",
    "            return ' '\n",
    "    return ' '\n",
    "\n",
    "\n",
    "acc_mapl = []\n",
    "for i in range(30):\n",
    "#     print(i)\n",
    "    df['answer_prompt_'+str(i)] = df['answer_prompt_'+str(i)].apply(lambda x:return_option(x))\n",
    "    cor = len(df[df['answer_prompt_'+str(i)]==df['correct_action']])\n",
    "    print(cor/len(df))\n",
    "    acc_mapl.append(cor/len(df))"
   ]
  },
  {
   "cell_type": "code",
   "execution_count": 58,
   "id": "87b75183",
   "metadata": {},
   "outputs": [
    {
     "name": "stdout",
     "output_type": "stream",
     "text": [
      "[0.19210977701543738, 0.2011761823082578, 0.18843420730213184, 0.19897084048027444, 0.1987258024993874, 0.2019112962509189, 0.2019112962509189, 0.20166625827003185, 0.20607694192599854, 0.19701053663317813, 0.19995099240382258, 0.2033815241362411, 0.20240137221269297, 0.20044106836559666, 0.19848076451850036, 0.20240137221269297, 0.20264641019358, 0.20534182798333742, 0.1987258024993874, 0.19750061259495222, 0.20142122028914483, 0.19823572653761334, 0.20754716981132076, 0.20607694192599854, 0.20313648615535407, 0.19259985297721147, 0.19431511884342073, 0.19210977701543738, 0.19039451114922812, 0.19750061259495222]\n"
     ]
    }
   ],
   "source": [
    "# df= pd.read_csv(file_path+'dis_blip_answer_all.csv')\n",
    "df= pd.read_csv(file_path+'dis_fromage_answer_all.csv')\n",
    "\n",
    "df\n",
    "\n",
    "acc_fro = []\n",
    "for i in range(30):\n",
    "    df['answer_prompt_'+str(i)] = df['answer_prompt_'+str(i)].apply(lambda x:x.lstrip(\" \")[0] if x.lstrip(\" \") else \"\")\n",
    "    cor = len(df[df['answer_prompt_'+str(i)]==df['correct_action']])\n",
    "    acc_fro.append(cor/len(df))\n",
    "print(acc_fro)"
   ]
  },
  {
   "cell_type": "code",
   "execution_count": 59,
   "id": "0d6f0348",
   "metadata": {},
   "outputs": [
    {
     "data": {
      "text/plain": [
       "0       With both the image and my feeling in mind, ho...\n",
       "1       With both the image and my feeling in mind, ho...\n",
       "2       With both the image and my feeling in mind, ho...\n",
       "3       With both the image and my feeling in mind, ho...\n",
       "4       With both the image and my feeling in mind, ho...\n",
       "                              ...                        \n",
       "4076    With both the image and my feeling in mind, ho...\n",
       "4077    With both the image and my feeling in mind, ho...\n",
       "4078    With both the image and my feeling in mind, ho...\n",
       "4079    With both the image and my feeling in mind, ho...\n",
       "4080    With both the image and my feeling in mind, ho...\n",
       "Name: prompt_22, Length: 4081, dtype: object"
      ]
     },
     "execution_count": 59,
     "metadata": {},
     "output_type": "execute_result"
    }
   ],
   "source": [
    "df.prompt_22"
   ]
  },
  {
   "cell_type": "code",
   "execution_count": 10,
   "id": "957df9d0",
   "metadata": {},
   "outputs": [
    {
     "ename": "NameError",
     "evalue": "name 'acc' is not defined",
     "output_type": "error",
     "traceback": [
      "\u001b[0;31m---------------------------------------------------------------------------\u001b[0m",
      "\u001b[0;31mNameError\u001b[0m                                 Traceback (most recent call last)",
      "Cell \u001b[0;32mIn[10], line 1\u001b[0m\n\u001b[0;32m----> 1\u001b[0m np\u001b[38;5;241m.\u001b[39mstd(\u001b[43macc\u001b[49m),np\u001b[38;5;241m.\u001b[39mmean(acc)\n",
      "\u001b[0;31mNameError\u001b[0m: name 'acc' is not defined"
     ]
    }
   ],
   "source": [
    "np.std(acc),np.mean(acc)"
   ]
  },
  {
   "cell_type": "code",
   "execution_count": null,
   "id": "300739ba",
   "metadata": {},
   "outputs": [],
   "source": []
  },
  {
   "cell_type": "code",
   "execution_count": null,
   "id": "6e4b0ea6",
   "metadata": {},
   "outputs": [],
   "source": []
  },
  {
   "cell_type": "code",
   "execution_count": 55,
   "id": "e13ca770",
   "metadata": {},
   "outputs": [],
   "source": [
    "df= pd.read_csv('temp29.csv')"
   ]
  },
  {
   "cell_type": "code",
   "execution_count": 56,
   "id": "8c01f3b1",
   "metadata": {},
   "outputs": [
    {
     "name": "stdout",
     "output_type": "stream",
     "text": [
      "[0.7569223229600588, 0.7569223229600588, 0.7476108796863514, 0.7667238421955404, 0.7569223229600588, 0.7549620191129625, 0.758147512864494, 0.7493261455525606, 0.757902474883607, 0.764518500367557, 0.771379563832394, 0.7603528546924774, 0.7498162215143347, 0.7610879686351385, 0.7601078167115903, 0.7427101200686106, 0.7532467532467533, 0.7576574369027199, 0.7547169811320755, 0.7701543739279588, 0.7652536143102181, 0.7598627787307033, 0.7422200441068365, 0.7623131585395736, 0.7588826268071551, 0.7566772849791717, 0.7534917912276403, 0.7632933104631218, 0.7591276647880422, 0.7373192844890958]\n"
     ]
    }
   ],
   "source": [
    "acc_blip =[]\n",
    "for i in range(30):\n",
    "    df['answer_prompt_'+str(i)] = df['answer_prompt_'+str(i)].apply(lambda x:x[0])\n",
    "    cor = len(df[df['answer_prompt_'+str(i)]==df['correct_action']])\n",
    "    acc_blip.append(cor/len(df))\n",
    "print(acc_blip)"
   ]
  },
  {
   "cell_type": "code",
   "execution_count": 57,
   "id": "0b875a04",
   "metadata": {},
   "outputs": [
    {
     "ename": "NameError",
     "evalue": "name 'acc' is not defined",
     "output_type": "error",
     "traceback": [
      "\u001b[0;31m---------------------------------------------------------------------------\u001b[0m",
      "\u001b[0;31mNameError\u001b[0m                                 Traceback (most recent call last)",
      "Cell \u001b[0;32mIn[57], line 1\u001b[0m\n\u001b[0;32m----> 1\u001b[0m np\u001b[38;5;241m.\u001b[39mstd(\u001b[43macc\u001b[49m),np\u001b[38;5;241m.\u001b[39mmean(acc),\n",
      "\u001b[0;31mNameError\u001b[0m: name 'acc' is not defined"
     ]
    }
   ],
   "source": [
    "np.std(acc),np.mean(acc),"
   ]
  },
  {
   "cell_type": "code",
   "execution_count": null,
   "id": "df3e4c23",
   "metadata": {},
   "outputs": [],
   "source": []
  },
  {
   "cell_type": "code",
   "execution_count": 14,
   "id": "de331c57",
   "metadata": {},
   "outputs": [],
   "source": [
    "df= pd.read_csv(file_path+'dis_idefics_answer_all.csv')\n",
    "\n",
    "# df"
   ]
  },
  {
   "cell_type": "code",
   "execution_count": 15,
   "id": "802b3b97",
   "metadata": {},
   "outputs": [
    {
     "name": "stdout",
     "output_type": "stream",
     "text": [
      "0\n",
      "0.22862043616760597\n",
      "1\n",
      "0.3866699338397452\n",
      "2\n",
      "0.31315853957363393\n",
      "3\n",
      "0.3785836804704729\n",
      "4\n",
      "0.3678020093114433\n",
      "5\n",
      "0.30776770399411907\n",
      "6\n",
      "0.418279833374173\n",
      "7\n",
      "0.35187454055378586\n",
      "8\n",
      "0.38005390835579517\n",
      "9\n",
      "0.4209752511639304\n",
      "10\n",
      "0.3991668708649841\n",
      "11\n",
      "0.38323940210732665\n",
      "12\n",
      "0.44008821367311934\n",
      "13\n",
      "0.4697378093604509\n",
      "14\n",
      "0.4560156824307768\n",
      "15\n",
      "0.40112717471208037\n",
      "16\n",
      "0.36951727517765254\n",
      "17\n",
      "0.4391080617495712\n",
      "18\n",
      "0.31413869149718204\n",
      "19\n",
      "0.3543249203626562\n",
      "20\n",
      "0.27248223474638567\n",
      "21\n",
      "0.36314628767458956\n",
      "22\n",
      "0.4403332516540064\n",
      "23\n",
      "0.4033325165400637\n",
      "24\n",
      "0.3288409703504043\n",
      "25\n",
      "0.2195540308747856\n",
      "26\n",
      "0.294045577064445\n",
      "27\n",
      "0.29380053908355797\n",
      "28\n",
      "0.19603038470963\n",
      "29\n",
      "0.24234256309728008\n"
     ]
    }
   ],
   "source": [
    "def return_option(answer):\n",
    "    try:\n",
    "        x = answer.split('Assistant: ')[-1]\n",
    "        if x[0] in ['A','B',\"C\",\"D\",\"E\"]:\n",
    "            return x[0]\n",
    "        if x.startswith('The answer is'):\n",
    "            return x[14]\n",
    "        if x.startswith('wer'):\n",
    "            return x[5]\n",
    "        else:             \n",
    "            return 0\n",
    "    except:\n",
    "        return -1\n",
    "\n",
    "\n",
    "acc_ide = []\n",
    "for i in range(30):\n",
    "    print(i)\n",
    "    try:\n",
    "        df['answer_prompt_'+str(i)] = df['answer_prompt_'+str(i)].apply(lambda x:return_option(x))\n",
    "        cor = len(df[df['answer_prompt_'+str(i)]==df['correct_action']])\n",
    "        print(cor/len(df))\n",
    "        acc_ide.append(cor/len(df))\n",
    "    except:\n",
    "        pass"
   ]
  },
  {
   "cell_type": "code",
   "execution_count": null,
   "id": "c66a0062",
   "metadata": {},
   "outputs": [],
   "source": []
  },
  {
   "cell_type": "code",
   "execution_count": 16,
   "id": "220e0acb",
   "metadata": {},
   "outputs": [],
   "source": [
    "import numpy as np"
   ]
  },
  {
   "cell_type": "code",
   "execution_count": 3,
   "id": "af604188",
   "metadata": {},
   "outputs": [
    {
     "ename": "NameError",
     "evalue": "name 'acc_blip' is not defined",
     "output_type": "error",
     "traceback": [
      "\u001b[0;31m---------------------------------------------------------------------------\u001b[0m",
      "\u001b[0;31mNameError\u001b[0m                                 Traceback (most recent call last)",
      "Cell \u001b[0;32mIn[3], line 9\u001b[0m\n\u001b[1;32m      7\u001b[0m plt\u001b[38;5;241m.\u001b[39mylabel(\u001b[38;5;124m'\u001b[39m\u001b[38;5;124mAccurancy\u001b[39m\u001b[38;5;124m'\u001b[39m)\n\u001b[1;32m      8\u001b[0m \u001b[38;5;66;03m# plt.title('Distribution of Accurancy for 4 models across different prompts')\u001b[39;00m\n\u001b[0;32m----> 9\u001b[0m data \u001b[38;5;241m=\u001b[39m [\u001b[43macc_blip\u001b[49m,acc_ide,acc_fro,acc_mapl]\n\u001b[1;32m     10\u001b[0m g \u001b[38;5;241m=\u001b[39m sns\u001b[38;5;241m.\u001b[39mviolinplot( data \u001b[38;5;241m=\u001b[39m data)\n\u001b[1;32m     14\u001b[0m desc_type \u001b[38;5;241m=\u001b[39m []\n",
      "\u001b[0;31mNameError\u001b[0m: name 'acc_blip' is not defined"
     ]
    },
    {
     "data": {
      "image/png": "[encoded data removed]",
      "text/plain": [
       "<Figure size 700x400 with 1 Axes>"
      ]
     },
     "metadata": {},
     "output_type": "display_data"
    }
   ],
   "source": [
    "import seaborn as sns\n",
    "import matplotlib.pyplot as plt\n",
    "import numpy as np\n",
    "plt.figure(figsize=(7, 4))\n",
    "ax= plt.gca()\n",
    "plt.xlabel('Model')\n",
    "plt.ylabel('Accurancy')\n",
    "# plt.title('Distribution of Accurancy for 4 models across different prompts')\n",
    "data = [acc_blip,acc_ide,acc_fro,acc_mapl]\n",
    "g = sns.violinplot( data = data)\n",
    "\n",
    "\n",
    "\n",
    "desc_type = []\n",
    "g.set_xticklabels(['BLIP2','IDEFICS','FROMAGe','MAPL'])\n",
    "\n",
    "\n",
    "\n",
    "\n",
    "#  添加平均值和标准差信息\n",
    "for i in range(len(data)):\n",
    "    mean_score = round(np.mean(data[i]), 2)\n",
    "#     plt.text( 0.09+i,0.2+mean_score,mean_score, ha='center', va='bottom')\n",
    "#     plt.text( 0.09+i,1.1,len(data[i]), ha='center', va='bottom')\n",
    "#     plt.errorbar(desc_type, mean_score, yerr=std_dev, color='black', lw=2)\n",
    "\n",
    "# 添加图例\n",
    "# legend_labels = ['target','vis_decoy','lang_decoy','intention','action','vis_action',\\\n",
    "#                   'lang_action','coco']\n",
    "# plt.legend(legend_labels, loc='upper center', bbox_to_anchor=(0.5, 1.15), ncol=len(legend_labels))\n",
    "\n",
    "# plt.xticks(rotation=45)\n",
    "# plt.tight_layout()\n",
    "# plt.savefig(\"paper/image/fig1.pdf\", format=\"pdf\")\n",
    "\n",
    "plt.savefig(\"fig2.pdf\", format=\"pdf\")\n",
    "plt.show()"
   ]
  },
  {
   "cell_type": "code",
   "execution_count": null,
   "id": "a1b13068",
   "metadata": {},
   "outputs": [],
   "source": []
  },
  {
   "cell_type": "code",
   "execution_count": 10,
   "id": "76734eb1",
   "metadata": {},
   "outputs": [
    {
     "data": {
      "text/plain": [
       "(0.07212248309872919, 0.3544719431511884)"
      ]
     },
     "execution_count": 10,
     "metadata": {},
     "output_type": "execute_result"
    }
   ],
   "source": [
    "np.std(acc),np.mean(acc),"
   ]
  },
  {
   "cell_type": "code",
   "execution_count": 66,
   "id": "e7c6dec6",
   "metadata": {},
   "outputs": [],
   "source": [
    "df= pd.read_csv('temp29.csv')\n",
    "df['answer_prompt_0'] = df['answer_prompt_0'].apply(lambda x:x[0])\n",
    "a = df[df['answer_prompt_0']==df['correct_action']].answer_prompt_0.value_counts().values"
   ]
  },
  {
   "cell_type": "code",
   "execution_count": 67,
   "id": "8b06db8f",
   "metadata": {},
   "outputs": [
    {
     "data": {
      "text/plain": [
       "array([654, 651, 611, 598, 575])"
      ]
     },
     "execution_count": 67,
     "metadata": {},
     "output_type": "execute_result"
    }
   ],
   "source": [
    "a"
   ]
  },
  {
   "cell_type": "code",
   "execution_count": 68,
   "id": "e25e8dc7",
   "metadata": {},
   "outputs": [],
   "source": [
    "b = df[df['answer_prompt_0']!=df['correct_action']].answer_prompt_0.value_counts().values"
   ]
  },
  {
   "cell_type": "code",
   "execution_count": 69,
   "id": "6b7e6904",
   "metadata": {},
   "outputs": [
    {
     "data": {
      "text/plain": [
       "array([276, 213, 180, 174, 149])"
      ]
     },
     "execution_count": 69,
     "metadata": {},
     "output_type": "execute_result"
    }
   ],
   "source": [
    "b"
   ]
  },
  {
   "cell_type": "code",
   "execution_count": 78,
   "id": "9b1591b1",
   "metadata": {},
   "outputs": [
    {
     "data": {
      "image/png": "[encoded data removed]",
      "text/plain": [
       "<Figure size 800x1000 with 2 Axes>"
      ]
     },
     "metadata": {},
     "output_type": "display_data"
    }
   ],
   "source": [
    "import matplotlib.pyplot as plt\n",
    "import numpy as np\n",
    "\n",
    "# data from https://allisonhorst.github.io/palmerpenguins/\n",
    "\n",
    "\n",
    "species = (\n",
    "    \"A\",\"B\",\"C\",\"D\",\"E\"\n",
    ")\n",
    "weight_counts = {\n",
    "    \"Correct\": a,\n",
    "    \"Wrong\": b\n",
    "}\n",
    "width = 0.5\n",
    "\n",
    "fig, axes = plt.subplots(2, 1, figsize=(8, 10))  # 创建包含两个子图的图形，2行1列\n",
    "width = 0.5\n",
    "\n",
    "# fig, ax = plt.subplots()\n",
    "ax1 = axes[0] \n",
    "bottom = np.zeros(5)\n",
    "\n",
    "for boolean, weight_count in weight_counts.items():\n",
    "    p = ax1.bar(species, weight_count, width, label=boolean, bottom=bottom)\n",
    "    bottom += weight_count\n",
    "\n",
    "ax1.set_title(\"BLIP2\")\n",
    "ax1.legend(loc=\"upper right\")\n",
    "\n",
    "ax2 = axes[1]\n",
    "bottom = np.zeros(5)\n",
    "\n",
    "for boolean, weight_count in weight_counts2.items():\n",
    "    p = ax2.bar(species2, weight_count, width, label=boolean, bottom=bottom)\n",
    "    bottom += weight_count\n",
    "\n",
    "ax2.set_title(\"FROMAGe\")\n",
    "ax2.legend(loc=\"upper right\")\n",
    "\n",
    "plt.savefig(\"fig3.pdf\", format=\"pdf\")\n",
    "plt.show()"
   ]
  },
  {
   "cell_type": "code",
   "execution_count": 74,
   "id": "79b636eb",
   "metadata": {},
   "outputs": [
    {
     "data": {
      "text/plain": [
       "array([384, 220, 105,  49,  26])"
      ]
     },
     "execution_count": 74,
     "metadata": {},
     "output_type": "execute_result"
    }
   ],
   "source": [
    "df2= pd.read_csv(file_path+'dis_fromage_answer_all.csv')\n",
    "df2['answer_prompt_0'] = df2['answer_prompt_0'].apply(lambda x:x.lstrip(\" \")[0] if x.lstrip(\" \") else \"\")\n",
    "a2 = df2[df2['answer_prompt_0']==df2['correct_action']].answer_prompt_0.value_counts().values\n",
    "\n",
    "a2"
   ]
  },
  {
   "cell_type": "code",
   "execution_count": 75,
   "id": "45e71441",
   "metadata": {},
   "outputs": [
    {
     "data": {
      "text/plain": [
       "array([1641,  945,  356,  197,  115])"
      ]
     },
     "execution_count": 75,
     "metadata": {},
     "output_type": "execute_result"
    }
   ],
   "source": [
    "b2 = df2[df2['answer_prompt_0']!=df2['correct_action']].answer_prompt_0.value_counts().values[:5]\n",
    "b2"
   ]
  },
  {
   "cell_type": "code",
   "execution_count": 76,
   "id": "f3d5a9e7",
   "metadata": {},
   "outputs": [],
   "source": [
    "# data from https://allisonhorst.github.io/palmerpenguins/\n",
    "\n",
    "species2 = (\n",
    "    \"A\",\"B\",\"C\",\"D\",\"E\"\n",
    ")\n",
    "weight_counts2 = {\n",
    "    \"Correct\": a2,\n",
    "    \"Wrong\": b2\n",
    "}\n",
    "width = 0.5"
   ]
  },
  {
   "cell_type": "code",
   "execution_count": 32,
   "id": "34936cac",
   "metadata": {},
   "outputs": [],
   "source": [
    "ax2 = axes[1]\n",
    "bottom = np.zeros(5)\n",
    "\n",
    "for boolean, weight_count in weight_counts2.items():\n",
    "    p = ax2.bar(species2, weight_count, width, label=boolean, bottom=bottom)\n",
    "    bottom += weight_count\n",
    "\n",
    "ax2.set_title(\"FROMAGe\")\n",
    "ax2.legend(loc=\"upper right\")\n",
    "\n",
    "# plt.savefig(\"fig3.pdf\", format=\"pdf\")\n",
    "plt.show()"
   ]
  },
  {
   "cell_type": "code",
   "execution_count": 12,
   "id": "2bfb8e38",
   "metadata": {},
   "outputs": [
    {
     "name": "stderr",
     "output_type": "stream",
     "text": [
      "No artists with labels found to put in legend.  Note that artists whose label start with an underscore are ignored when legend() is called with no argument.\n"
     ]
    },
    {
     "data": {
      "image/png": "[encoded data removed]",
      "text/plain": [
       "<Figure size 800x1000 with 2 Axes>"
      ]
     },
     "metadata": {},
     "output_type": "display_data"
    }
   ],
   "source": [
    "df= pd.read_csv(file_path+'dis_fromage_answer_all.csv')\n",
    "df['answer_prompt_0'] = df['answer_prompt_0'].apply(lambda x:x.lstrip(\" \")[0] if x.lstrip(\" \") else \"\")\n",
    "a = df[df['answer_prompt_0']==df['correct_action']].answer_prompt_0.value_counts().values\n",
    "\n",
    "a\n",
    "\n",
    "b = df[df['answer_prompt_0']!=df['correct_action']].answer_prompt_0.value_counts().values[:5]\n",
    "\n",
    "\n",
    "# data from https://allisonhorst.github.io/palmerpenguins/\n",
    "\n",
    "species = (\n",
    "    \"A\",\"B\",\"C\",\"D\",\"E\"\n",
    ")\n",
    "weight_counts = {\n",
    "    \"Correct\": a,\n",
    "    \"Wrong\": b\n",
    "}\n",
    "width = 0.5\n",
    "\n",
    "ax2 = axes[1]\n",
    "bottom = np.zeros(5)\n",
    "\n",
    "for boolean, weight_count in weight_counts.items():\n",
    "    p = ax.bar(species, weight_count, width, label=boolean, bottom=bottom)\n",
    "    bottom += weight_count\n",
    "\n",
    "ax2.set_title(\"FROMAGe\")\n",
    "ax2.legend(loc=\"upper right\")\n",
    "\n",
    "plt.savefig(\"fig3.pdf\", format=\"pdf\")\n",
    "plt.show()\n",
    "\n",
    "# plt.show()"
   ]
  },
  {
   "cell_type": "code",
   "execution_count": null,
   "id": "42c51e5d",
   "metadata": {},
   "outputs": [],
   "source": []
  },
  {
   "cell_type": "code",
   "execution_count": 31,
   "id": "8d8085ef",
   "metadata": {},
   "outputs": [
    {
     "data": {
      "text/plain": [
       "A    1641\n",
       "B     945\n",
       "D     356\n",
       "C     197\n",
       "E     115\n",
       "I      28\n",
       "Y       8\n",
       "1       2\n",
       "S       2\n",
       "        2\n",
       "b       1\n",
       "Name: answer_prompt_0, dtype: int64"
      ]
     },
     "execution_count": 31,
     "metadata": {},
     "output_type": "execute_result"
    }
   ],
   "source": [
    "df[df['answer_prompt_0']!=df['correct_action']].answer_prompt_0.value_counts()"
   ]
  },
  {
   "cell_type": "code",
   "execution_count": 56,
   "id": "5f76a2ca",
   "metadata": {},
   "outputs": [],
   "source": [
    "df= pd.read_csv(file_path+'dis_fromage_answer_all.csv')\n",
    "df['answer_prompt_0'] = df['answer_prompt_0'].apply(lambda x:x.lstrip(\" \")[0] if x.lstrip(\" \") else \"\")\n",
    "a = df[df['answer_prompt_0']==df['correct_action']].answer_prompt_0.value_counts().values\n",
    "\n",
    "a\n",
    "\n",
    "b = df[df['answer_prompt_0']!=df['correct_action']].answer_prompt_0.value_counts().values[:5]\n",
    "\n",
    "\n",
    "# data from https://allisonhorst.github.io/palmerpenguins/\n",
    "\n",
    "species = (\n",
    "    \"A\",\"B\",\"C\",\"D\",\"E\"\n",
    ")\n",
    "weight_counts = {\n",
    "    \"Correct\": a,\n",
    "    \"Wrong\": b\n",
    "}\n",
    "width = 0.5\n",
    "\n",
    "ax = axes[1]\n",
    "bottom = np.zeros(5)\n",
    "\n",
    "for boolean, weight_count in weight_counts.items():\n",
    "    p = ax.bar(species, weight_count, width, label=boolean, bottom=bottom)\n",
    "    bottom += weight_count\n",
    "\n",
    "ax.set_title(\"FROMAGe\")\n",
    "ax.legend(loc=\"upper right\")\n",
    "\n",
    "plt.show()"
   ]
  },
  {
   "cell_type": "code",
   "execution_count": 23,
   "id": "ddc7689a",
   "metadata": {},
   "outputs": [],
   "source": [
    "df= pd.read_csv(file_path+'dis_mapl_answer_all.csv')\n",
    "def return_option(x):\n",
    "    \n",
    "    if x:\n",
    "        try:\n",
    "            return x.rstrip('.')\n",
    "        except:\n",
    "            return ' '\n",
    "    return ' '\n",
    "df['answer_prompt_0'] = df['answer_prompt_0'].apply(lambda x:return_option(x))\n",
    "\n",
    "a = df[df['answer_prompt_0']==df['correct_action']].answer_prompt_0.value_counts().values\n",
    "\n",
    "a \n",
    "\n",
    "b = df[df['answer_prompt_0']!=df['correct_action']].answer_prompt_0.value_counts().values[:5]"
   ]
  },
  {
   "cell_type": "code",
   "execution_count": 24,
   "id": "47292117",
   "metadata": {},
   "outputs": [],
   "source": [
    "a = list(a)\n",
    "a.append(0)\n",
    "\n",
    "a = np.array(a)"
   ]
  },
  {
   "cell_type": "code",
   "execution_count": 41,
   "id": "996930e8",
   "metadata": {},
   "outputs": [
    {
     "ename": "AttributeError",
     "evalue": "module 'numpy' has no attribute 'brrby'",
     "output_type": "error",
     "traceback": [
      "\u001b[0;31m---------------------------------------------------------------------------\u001b[0m",
      "\u001b[0;31mAttributeError\u001b[0m                            Traceback (most recent call last)",
      "Cell \u001b[0;32mIn[41], line 4\u001b[0m\n\u001b[1;32m      1\u001b[0m b \u001b[38;5;241m=\u001b[39m \u001b[38;5;28mlist\u001b[39m(b)\n\u001b[1;32m      2\u001b[0m b\u001b[38;5;241m.\u001b[39mappend(\u001b[38;5;241m0\u001b[39m)\n\u001b[0;32m----> 4\u001b[0m b \u001b[38;5;241m=\u001b[39m \u001b[43mnp\u001b[49m\u001b[38;5;241;43m.\u001b[39;49m\u001b[43mbrrby\u001b[49m(b)\n",
      "File \u001b[0;32m~/miniconda3/envs/byy/lib/python3.8/site-packages/numpy/__init__.py:320\u001b[0m, in \u001b[0;36m__getattr__\u001b[0;34m(attr)\u001b[0m\n\u001b[1;32m    317\u001b[0m     \u001b[38;5;28;01mfrom\u001b[39;00m \u001b[38;5;21;01m.\u001b[39;00m\u001b[38;5;21;01mtesting\u001b[39;00m \u001b[38;5;28;01mimport\u001b[39;00m Tester\n\u001b[1;32m    318\u001b[0m     \u001b[38;5;28;01mreturn\u001b[39;00m Tester\n\u001b[0;32m--> 320\u001b[0m \u001b[38;5;28;01mraise\u001b[39;00m \u001b[38;5;167;01mAttributeError\u001b[39;00m(\u001b[38;5;124m\"\u001b[39m\u001b[38;5;124mmodule \u001b[39m\u001b[38;5;132;01m{!r}\u001b[39;00m\u001b[38;5;124m has no attribute \u001b[39m\u001b[38;5;124m\"\u001b[39m\n\u001b[1;32m    321\u001b[0m                      \u001b[38;5;124m\"\u001b[39m\u001b[38;5;132;01m{!r}\u001b[39;00m\u001b[38;5;124m\"\u001b[39m\u001b[38;5;241m.\u001b[39mformat(\u001b[38;5;18m__name__\u001b[39m, attr))\n",
      "\u001b[0;31mAttributeError\u001b[0m: module 'numpy' has no attribute 'brrby'"
     ]
    }
   ],
   "source": [
    "b = list(b)\n",
    "b.append(0)\n",
    "\n",
    "b = np.arrby(b)\n"
   ]
  },
  {
   "cell_type": "code",
   "execution_count": 45,
   "id": "1dd34886",
   "metadata": {},
   "outputs": [
    {
     "data": {
      "image/png": "[encoded data removed]",
      "text/plain": [
       "<Figure size 640x480 with 1 Axes>"
      ]
     },
     "metadata": {},
     "output_type": "display_data"
    }
   ],
   "source": [
    "import matplotlib.pyplot as plt\n",
    "import numpy as np\n",
    "\n",
    "# data from https://allisonhorst.github.io/palmerpenguins/\n",
    "\n",
    "species = (\n",
    "    \"A\",\"B\",\"C\",\"D\",\"E\"\n",
    ")\n",
    "weight_counts = {\n",
    "    \"Correct\": a,\n",
    "    \"Wrong\": b\n",
    "}\n",
    "width = 0.5\n",
    "\n",
    "fig, ax = plt.subplots()\n",
    "bottom = np.zeros(5)\n",
    "\n",
    "for boolean, weight_count in weight_counts.items():\n",
    "    p = ax.bar(species, weight_count, width, label=boolean, bottom=bottom)\n",
    "    bottom += weight_count\n",
    "\n",
    "ax.set_title(\"MAPL\")\n",
    "ax.legend(loc=\"upper right\")\n",
    "\n",
    "plt.show()"
   ]
  },
  {
   "cell_type": "code",
   "execution_count": null,
   "id": "f57d8bff",
   "metadata": {},
   "outputs": [],
   "source": []
  },
  {
   "cell_type": "code",
   "execution_count": 46,
   "id": "49c158e7",
   "metadata": {},
   "outputs": [
    {
     "data": {
      "image/png": "[encoded data removed]",
      "text/plain": [
       "<Figure size 640x480 with 1 Axes>"
      ]
     },
     "metadata": {},
     "output_type": "display_data"
    }
   ],
   "source": [
    "df= pd.read_csv(file_path+'dis_idefics_answer_all.csv')\n",
    "def return_option(answer):\n",
    "    try:\n",
    "        x = answer.split('Assistant: ')[-1]\n",
    "        if x[0] in ['A','B',\"C\",\"D\",\"E\"]:\n",
    "            return x[0]\n",
    "        if x.startswith('The answer is'):\n",
    "            return x[14]\n",
    "        if x.startswith('wer'):\n",
    "            return x[5]\n",
    "        else:             \n",
    "            return 0\n",
    "    except:\n",
    "        return -1\n",
    "df['answer_prompt_0'] = df['answer_prompt_0'].apply(lambda x:return_option(x))\n",
    "\n",
    "a = df[df['answer_prompt_0']==df['correct_action']].answer_prompt_0.value_counts().values\n",
    "\n",
    "a \n",
    "\n",
    "b = df[df['answer_prompt_0']!=df['correct_action']].answer_prompt_0.value_counts().values[:5]\n",
    "\n",
    "\n",
    "\n",
    "import matplotlib.pyplot as plt\n",
    "import numpy as np\n",
    "\n",
    "# data from https://allisonhorst.github.io/palmerpenguins/\n",
    "\n",
    "species = (\n",
    "    \"A\",\"B\",\"C\",\"D\",\"E\"\n",
    ")\n",
    "weight_counts = {\n",
    "    \"Correct\": a,\n",
    "    \"Wrong\": b\n",
    "}\n",
    "width = 0.5\n",
    "\n",
    "fig, ax = plt.subplots()\n",
    "bottom = np.zeros(5)\n",
    "\n",
    "for boolean, weight_count in weight_counts.items():\n",
    "    p = ax.bar(species, weight_count, width, label=boolean, bottom=bottom)\n",
    "    bottom += weight_count\n",
    "\n",
    "ax.set_title(\"Idefics\")\n",
    "ax.legend(loc=\"upper right\")\n",
    "\n",
    "plt.show()"
   ]
  },
  {
   "cell_type": "code",
   "execution_count": null,
   "id": "aaed51d0",
   "metadata": {},
   "outputs": [],
   "source": []
  },
  {
   "cell_type": "markdown",
   "id": "5c57ede4",
   "metadata": {},
   "source": [
    "## Nan rate"
   ]
  },
  {
   "cell_type": "code",
   "execution_count": 90,
   "id": "cf7de468",
   "metadata": {},
   "outputs": [],
   "source": [
    "df2= pd.read_csv(file_path+'dis_fromage_answer_all.csv')"
   ]
  },
  {
   "cell_type": "code",
   "execution_count": 91,
   "id": "9d736c54",
   "metadata": {},
   "outputs": [],
   "source": [
    "df2['answer_prompt_0'] = df2['answer_prompt_0'].apply(lambda x:x.lstrip(\" \")[0] if x.lstrip(\" \") else \"\")"
   ]
  },
  {
   "cell_type": "code",
   "execution_count": 103,
   "id": "c405178d",
   "metadata": {},
   "outputs": [
    {
     "name": "stdout",
     "output_type": "stream",
     "text": [
      "43\n",
      "13\n",
      "353\n",
      "18\n",
      "21\n",
      "7\n",
      "5\n",
      "1\n",
      "0\n",
      "5\n",
      "17\n",
      "14\n",
      "3\n",
      "1\n",
      "0\n",
      "1\n",
      "0\n",
      "1\n",
      "3\n",
      "16\n",
      "4\n",
      "4\n",
      "5\n",
      "3\n",
      "2\n",
      "10\n",
      "9\n",
      "19\n",
      "67\n",
      "0.0005472514906477171\n"
     ]
    }
   ],
   "source": [
    "sum_nan = 0\n",
    "for i in range(29):\n",
    "    df2['answer_prompt_'+str(i)] = df2['answer_prompt_'+str(i)].apply(lambda x:x.lstrip(\" \")[0] if x.lstrip(\" \") else \"\")\n",
    "    res = df2['answer_prompt_'+str(i)].value_counts()\n",
    "    nan_num = res[~res.index.isin(['A','B',\"C\",'D','E'])].sum()\n",
    "    print(nan_num)\n",
    "    sum_nan =+ nan_num\n",
    "print(sum_nan/4081/30)"
   ]
  },
  {
   "cell_type": "code",
   "execution_count": null,
   "id": "d15ccfcd",
   "metadata": {},
   "outputs": [],
   "source": []
  },
  {
   "cell_type": "code",
   "execution_count": 149,
   "id": "ce9114fa",
   "metadata": {},
   "outputs": [
    {
     "name": "stdout",
     "output_type": "stream",
     "text": [
      "0\n",
      "0\n",
      "0\n",
      "0\n",
      "0\n",
      "0\n",
      "0\n",
      "0\n",
      "0\n",
      "0\n",
      "0\n",
      "0\n",
      "0\n",
      "0\n",
      "0\n",
      "0\n",
      "0\n",
      "0\n",
      "0\n",
      "0\n",
      "0\n",
      "0\n",
      "0\n",
      "0\n",
      "0\n",
      "3\n",
      "0\n",
      "0\n",
      "1\n",
      "3.2671730784938334e-05\n"
     ]
    }
   ],
   "source": [
    "df3= pd.read_csv(file_path+'dis_mapl_answer_all.csv')\n",
    "\n",
    "def return_option(x):\n",
    "    \n",
    "    if x:\n",
    "        try:\n",
    "            return x.rstrip('.')\n",
    "        except:\n",
    "            return ' '\n",
    "    return ' '\n",
    "\n",
    "sum_nan = 0\n",
    "for i in range(29):\n",
    "    df3['answer_prompt_'+str(i)] = df3['answer_prompt_'+str(i)].apply(lambda x:return_option(x))\n",
    "    res = df3['answer_prompt_'+str(i)].value_counts()\n",
    "    nan_num = res[~res.index.isin(['A','B',\"C\",'D','E'])].sum()\n",
    "    print(nan_num)\n",
    "    sum_nan += nan_num\n",
    "print(sum_nan/4081/30)"
   ]
  },
  {
   "cell_type": "code",
   "execution_count": 122,
   "id": "f7b2e519",
   "metadata": {},
   "outputs": [
    {
     "data": {
      "text/plain": [
       "B    1874\n",
       "D    1334\n",
       "A     845\n",
       "E      27\n",
       "C       1\n",
       "Name: answer_prompt_6, dtype: int64"
      ]
     },
     "execution_count": 122,
     "metadata": {},
     "output_type": "execute_result"
    }
   ],
   "source": [
    "df3['answer_prompt_'+str(6)].value_counts()"
   ]
  },
  {
   "cell_type": "code",
   "execution_count": 148,
   "id": "e6d880cb",
   "metadata": {},
   "outputs": [
    {
     "name": "stdout",
     "output_type": "stream",
     "text": [
      "926\n",
      "405\n",
      "750\n",
      "265\n",
      "437\n",
      "640\n",
      "276\n",
      "227\n",
      "620\n",
      "151\n",
      "123\n",
      "417\n",
      "144\n",
      "179\n",
      "179\n",
      "152\n",
      "480\n",
      "214\n",
      "991\n",
      "839\n",
      "1547\n",
      "187\n",
      "144\n",
      "224\n",
      "1013\n",
      "1263\n",
      "767\n",
      "917\n",
      "1171\n",
      "0.12781181083067877\n"
     ]
    }
   ],
   "source": [
    "df4= pd.read_csv(file_path+'dis_idefics_answer_all.csv')\n",
    "\n",
    "def return_option(answer):\n",
    "    try:\n",
    "        x = answer.split('Assistant: ')[-1]\n",
    "        if x[0] in ['A','B',\"C\",\"D\",\"E\"]:\n",
    "            return x[0]\n",
    "        if x.startswith('The answer is'):\n",
    "            return x[14]\n",
    "        if x.startswith('wer'):\n",
    "            return x[5]\n",
    "        else:             \n",
    "            return x\n",
    "    except:\n",
    "        pass\n",
    "\n",
    "sum_nan = 0\n",
    "\n",
    "for i in range(29):\n",
    "    df4['answer_prompt_'+str(i)] = df4['answer_prompt_'+str(i)].apply(lambda x:return_option(x))\n",
    "    res = df4['answer_prompt_'+str(i)].value_counts()\n",
    "    nan_num = res[~res.index.isin(['A','B',\"C\",'D','E'])].sum()\n",
    "    print(nan_num)\n",
    "    sum_nan = sum_nan+ nan_num\n",
    "print(sum_nan/4081/30)"
   ]
  },
  {
   "cell_type": "code",
   "execution_count": null,
   "id": "4bca674f",
   "metadata": {},
   "outputs": [],
   "source": []
  }
 ],
 "metadata": {
  "kernelspec": {
   "display_name": "Python 3.11.3 64-bit",
   "language": "python",
   "name": "python3"
  },
  "language_info": {
   "codemirror_mode": {
    "name": "ipython",
    "version": 3
   },
   "file_extension": ".py",
   "mimetype": "text/x-python",
   "name": "python",
   "nbconvert_exporter": "python",
   "pygments_lexer": "ipython3",
   "version": "3.11.3"
  },
  "vscode": {
   "interpreter": {
    "hash": "b0fa6594d8f4cbf19f97940f81e996739fb7646882a419484c72d19e05852a7e"
   }
  }
 },
 "nbformat": 4,
 "nbformat_minor": 5
}
