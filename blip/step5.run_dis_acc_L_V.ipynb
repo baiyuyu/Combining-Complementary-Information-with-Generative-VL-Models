{
 "cells": [
  {
   "cell_type": "code",
   "execution_count": 2,
   "id": "040ca827",
   "metadata": {},
   "outputs": [
    {
     "name": "stdout",
     "output_type": "stream",
     "text": [
      "cuda\n"
     ]
    }
   ],
   "source": [
    "import torch\n",
    "from PIL import Image\n",
    "import requests\n",
    "\n",
    "import bert_score\n",
    "\n",
    "# from transformers import Blip2Processor, Blip2ForConditionalGeneration\n",
    "import random\n",
    "\n",
    "import pickle\n",
    "import time\n",
    "import pandas as pd\n",
    "import warnings\n",
    "warnings.filterwarnings('ignore')\n",
    "#os.environ['HF_HOME'] = '/var/scratch/ybi530/data'\n",
    "\n",
    "device = torch.device(\"cuda\") if torch.cuda.is_available() else \"cpu\"\n",
    "print(device)\n",
    "img_path = '/var/scratch/ybi530/data/data/train2014/'\n",
    "file_path = '/var/scratch/ybi530/result_Nov/'"
   ]
  },
  {
   "cell_type": "code",
   "execution_count": 3,
   "id": "43536caa",
   "metadata": {},
   "outputs": [],
   "source": [
    "df = pd.read_csv(file_path+'dis_blip_answer_all_L.csv')"
   ]
  },
  {
   "cell_type": "code",
   "execution_count": 7,
   "id": "54600798",
   "metadata": {},
   "outputs": [
    {
     "name": "stdout",
     "output_type": "stream",
     "text": [
      "0.5863758882626807\n",
      "0.5969125214408233\n",
      "0.5939720656701789\n",
      "0.5853957363391326\n",
      "0.5939720656701789\n",
      "0.5893163440333251\n"
     ]
    }
   ],
   "source": [
    "accs = []\n",
    "for i in range(0,30,5):\n",
    "#     print(i)\n",
    "    df['answer_prompt_'+str(i)] = df['answer_prompt_'+str(i)].apply(lambda x:x[0])\n",
    "    acc = len(df[df['answer_prompt_'+str(i)]==df['correct_action']])\n",
    "    print(acc/len(df))\n",
    "    accs.append(acc/len(df))"
   ]
  },
  {
   "cell_type": "code",
   "execution_count": 9,
   "id": "e92f64ed",
   "metadata": {},
   "outputs": [
    {
     "data": {
      "text/plain": [
       "(0.5909907702360533, 0.004247521342039875)"
      ]
     },
     "execution_count": 9,
     "metadata": {},
     "output_type": "execute_result"
    }
   ],
   "source": [
    "import numpy as np\n",
    "np.mean(accs),np.std(accs)"
   ]
  },
  {
   "cell_type": "code",
   "execution_count": 10,
   "id": "15bf7d05",
   "metadata": {},
   "outputs": [
    {
     "name": "stdout",
     "output_type": "stream",
     "text": [
      "0.59470717961284\n",
      "0.5515804949767213\n",
      "0.5998529772114678\n",
      "0.5309973045822103\n",
      "0.5844155844155844\n",
      "0.5594217103651066\n"
     ]
    }
   ],
   "source": [
    "df = pd.read_csv(file_path+'dis_blip_answer_all_V.csv')\n",
    "\n",
    "accs = []\n",
    "for i in range(0,30,5):\n",
    "#     print(i)\n",
    "    df['answer_prompt_'+str(i)] = df['answer_prompt_'+str(i)].apply(lambda x:x[0])\n",
    "    acc = len(df[df['answer_prompt_'+str(i)]==df['correct_action']])\n",
    "    print(acc/len(df))\n",
    "    accs.append(acc/len(df))"
   ]
  },
  {
   "cell_type": "code",
   "execution_count": 11,
   "id": "de22b575",
   "metadata": {},
   "outputs": [
    {
     "data": {
      "text/plain": [
       "(0.5701625418606551, 0.024771233835737635)"
      ]
     },
     "execution_count": 11,
     "metadata": {},
     "output_type": "execute_result"
    }
   ],
   "source": [
    "import numpy as np\n",
    "np.mean(accs),np.std(accs)"
   ]
  },
  {
   "cell_type": "code",
   "execution_count": 13,
   "id": "18cdca77",
   "metadata": {},
   "outputs": [
    {
     "ename": "NameError",
     "evalue": "name 'acc_blip' is not defined",
     "output_type": "error",
     "traceback": [
      "\u001b[0;31m---------------------------------------------------------------------------\u001b[0m",
      "\u001b[0;31mNameError\u001b[0m                                 Traceback (most recent call last)",
      "Cell \u001b[0;32mIn[13], line 6\u001b[0m\n\u001b[1;32m      4\u001b[0m ax\u001b[38;5;241m=\u001b[39m plt\u001b[38;5;241m.\u001b[39mgca()\n\u001b[1;32m      5\u001b[0m plt\u001b[38;5;241m.\u001b[39mxlabel(\u001b[38;5;124m'\u001b[39m\u001b[38;5;124mColumn\u001b[39m\u001b[38;5;124m'\u001b[39m)\n\u001b[0;32m----> 6\u001b[0m data \u001b[38;5;241m=\u001b[39m [\u001b[43macc_blip\u001b[49m,acc_ide,acc_fro,acc_mapl]\n\u001b[1;32m      7\u001b[0m g \u001b[38;5;241m=\u001b[39m sns\u001b[38;5;241m.\u001b[39mviolinplot( data \u001b[38;5;241m=\u001b[39m data)\n\u001b[1;32m     10\u001b[0m desc_type \u001b[38;5;241m=\u001b[39m []\n",
      "\u001b[0;31mNameError\u001b[0m: name 'acc_blip' is not defined"
     ]
    },
    {
     "data": {
      "image/png": "[encoded data removed]",
      "text/plain": [
       "<Figure size 640x480 with 1 Axes>"
      ]
     },
     "metadata": {},
     "output_type": "display_data"
    }
   ],
   "source": [
    "import seaborn as sns\n",
    "import matplotlib.pyplot as plt\n",
    "import numpy as np\n",
    "ax= plt.gca()\n",
    "plt.xlabel('Column')\n",
    "data = [acc_blip,acc_ide,acc_fro,acc_mapl]\n",
    "g = sns.violinplot( data = data)\n",
    "\n",
    "\n",
    "desc_type = []\n",
    "g.set_xticklabels(['intention+target action','intention+vision_decoy action','intention+language_decoy action','intention'\n",
    "                ])\n",
    "\n",
    "plt.xlabel('text')\n",
    "plt.ylabel('CLIP-Score')\n",
    "plt.title('Distribution of CLIP-Score values per Image text pair')\n",
    "\n",
    "\n",
    "#  添加平均值和标准差信息\n",
    "for i in range(len(data)):\n",
    "    mean_score = round(np.mean(data[i]), 2)\n",
    "    plt.text( 0.09+i,0.07,mean_score, ha='center', va='bottom')\n",
    "    plt.text( 0.09+i,1.1,len(data[i]), ha='center', va='bottom')\n",
    "#     plt.errorbar(desc_type, mean_score, yerr=std_dev, color='black', lw=2)\n",
    "\n",
    "# 添加图例\n",
    "# legend_labels = ['target','vis_decoy','lang_decoy','intention','action','vis_action',\\\n",
    "#                   'lang_action','coco']\n",
    "# plt.legend(legend_labels, loc='upper center', bbox_to_anchor=(0.5, 1.15), ncol=len(legend_labels))\n",
    "\n",
    "plt.xticks(rotation=45)\n",
    "plt.tight_layout()\n",
    "# plt.savefig(\"paper/image/fig1.pdf\", format=\"pdf\")\n",
    "plt.show()"
   ]
  },
  {
   "cell_type": "code",
   "execution_count": null,
   "id": "b9801ef8",
   "metadata": {},
   "outputs": [],
   "source": []
  }
 ],
 "metadata": {
  "kernelspec": {
   "display_name": "Python 3.11.3 64-bit",
   "language": "python",
   "name": "python3"
  },
  "language_info": {
   "codemirror_mode": {
    "name": "ipython",
    "version": 3
   },
   "file_extension": ".py",
   "mimetype": "text/x-python",
   "name": "python",
   "nbconvert_exporter": "python",
   "pygments_lexer": "ipython3",
   "version": "3.11.3"
  },
  "vscode": {
   "interpreter": {
    "hash": "b0fa6594d8f4cbf19f97940f81e996739fb7646882a419484c72d19e05852a7e"
   }
  }
 },
 "nbformat": 4,
 "nbformat_minor": 5
}
