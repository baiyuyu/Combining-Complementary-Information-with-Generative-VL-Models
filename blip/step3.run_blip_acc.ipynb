{
 "cells": [
  {
   "cell_type": "code",
   "execution_count": 1,
   "id": "040ca827",
   "metadata": {},
   "outputs": [
    {
     "name": "stdout",
     "output_type": "stream",
     "text": [
      "cuda\n"
     ]
    }
   ],
   "source": [
    "import torch\n",
    "from PIL import Image\n",
    "import requests\n",
    "\n",
    "from transformers import Blip2Processor, Blip2ForConditionalGeneration\n",
    "import random\n",
    "\n",
    "import pickle\n",
    "import time\n",
    "import pandas as pd\n",
    "import warnings\n",
    "warnings.filterwarnings('ignore')\n",
    "#os.environ['HF_HOME'] = '/var/scratch/ybi530/data'\n",
    "\n",
    "device = torch.device(\"cuda\") if torch.cuda.is_available() else \"cpu\"\n",
    "print(device)\n",
    "img_path = '/var/scratch/ybi530/data/data/train2014/'\n",
    "file_path = '/var/scratch/ybi530/result_Nov/'"
   ]
  },
  {
   "cell_type": "code",
   "execution_count": 2,
   "id": "68014138",
   "metadata": {},
   "outputs": [],
   "source": [
    "df= pd.read_csv(file_path+'dis_blip_answer_all.csv')"
   ]
  },
  {
   "cell_type": "code",
   "execution_count": 9,
   "id": "2d1fdc52",
   "metadata": {},
   "outputs": [
    {
     "name": "stdout",
     "output_type": "stream",
     "text": [
      "0.7569223229600588\n",
      "0.7569223229600588\n",
      "0.7476108796863514\n",
      "0.7667238421955404\n",
      "0.7569223229600588\n",
      "0.7549620191129625\n",
      "0.758147512864494\n",
      "0.7493261455525606\n",
      "0.757902474883607\n",
      "0.764518500367557\n",
      "0.771379563832394\n",
      "0.7603528546924774\n",
      "0.7498162215143347\n",
      "0.7610879686351385\n",
      "0.7601078167115903\n",
      "0.7427101200686106\n",
      "0.7532467532467533\n",
      "0.7576574369027199\n",
      "0.7547169811320755\n",
      "0.7701543739279588\n",
      "0.7652536143102181\n",
      "0.7598627787307033\n",
      "0.7422200441068365\n",
      "0.7623131585395736\n",
      "0.7588826268071551\n",
      "0.7566772849791717\n",
      "0.7534917912276403\n",
      "0.7632933104631218\n",
      "0.7591276647880422\n",
      "0.7373192844890958\n"
     ]
    }
   ],
   "source": [
    "for i in range(30):\n",
    "    df['answer_prompt_'+str(i)] = df['answer_prompt_'+str(i)].apply(lambda x:x[0])\n",
    "    acc = len(df[df['answer_prompt_'+str(i)]==df['correct_action']])\n",
    "    print(acc/len(df))"
   ]
  },
  {
   "cell_type": "code",
   "execution_count": 2,
   "id": "e13ca770",
   "metadata": {},
   "outputs": [],
   "source": [
    "df= pd.read_csv('temp29.csv')"
   ]
  },
  {
   "cell_type": "code",
   "execution_count": 3,
   "id": "8c01f3b1",
   "metadata": {},
   "outputs": [
    {
     "name": "stdout",
     "output_type": "stream",
     "text": [
      "0.7569223229600588\n",
      "0.7569223229600588\n",
      "0.7476108796863514\n",
      "0.7667238421955404\n",
      "0.7569223229600588\n",
      "0.7549620191129625\n",
      "0.758147512864494\n",
      "0.7493261455525606\n",
      "0.757902474883607\n",
      "0.764518500367557\n",
      "0.771379563832394\n",
      "0.7603528546924774\n",
      "0.7498162215143347\n",
      "0.7610879686351385\n",
      "0.7601078167115903\n",
      "0.7427101200686106\n",
      "0.7532467532467533\n",
      "0.7576574369027199\n",
      "0.7547169811320755\n",
      "0.7701543739279588\n",
      "0.7652536143102181\n",
      "0.7598627787307033\n",
      "0.7422200441068365\n",
      "0.7623131585395736\n",
      "0.7588826268071551\n",
      "0.7566772849791717\n",
      "0.7534917912276403\n",
      "0.7632933104631218\n",
      "0.7591276647880422\n",
      "0.7373192844890958\n"
     ]
    }
   ],
   "source": [
    "for i in range(30):\n",
    "    df['answer_prompt_'+str(i)] = df['answer_prompt_'+str(i)].apply(lambda x:x[0])\n",
    "    acc = len(df[df['answer_prompt_'+str(i)]==df['correct_action']])\n",
    "    print(acc/len(df))"
   ]
  },
  {
   "cell_type": "code",
   "execution_count": null,
   "id": "0b875a04",
   "metadata": {},
   "outputs": [],
   "source": []
  }
 ],
 "metadata": {
  "kernelspec": {
   "display_name": "Python 3.11.3 64-bit",
   "language": "python",
   "name": "python3"
  },
  "language_info": {
   "codemirror_mode": {
    "name": "ipython",
    "version": 3
   },
   "file_extension": ".py",
   "mimetype": "text/x-python",
   "name": "python",
   "nbconvert_exporter": "python",
   "pygments_lexer": "ipython3",
   "version": "3.11.3"
  },
  "vscode": {
   "interpreter": {
    "hash": "b0fa6594d8f4cbf19f97940f81e996739fb7646882a419484c72d19e05852a7e"
   }
  }
 },
 "nbformat": 4,
 "nbformat_minor": 5
}
